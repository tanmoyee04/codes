{
 "cells": [
  {
   "cell_type": "code",
   "execution_count": 2,
   "metadata": {},
   "outputs": [
    {
     "name": "stdout",
     "output_type": "stream",
     "text": [
      "Rate of Indian rupees against 1 dollar : 75.653\n"
     ]
    }
   ],
   "source": [
    "import requests\n",
    "\n",
    "url = \"https://currencyapi.net/api/v1/rates?key=8S6WV4dEvTHzScNFZSscke0FRO7f8fEJbsFh\"\n",
    "\n",
    "\n",
    "\n",
    "response = requests.get(url)\n",
    "recieved_data= response.json()\n",
    "for data in recieved_data.keys():\n",
    "    if data=='rates':\n",
    "        currency_rate=recieved_data[data]\n",
    "        for ratesofMoney in currency_rate.keys():\n",
    "            if ratesofMoney=='INR':\n",
    "                print(\"Rate of Indian rupees against 1 dollar : {}\".format(currency_rate[ratesofMoney]))\n",
    "\n",
    "#print(response.text.encode('utf8'))"
   ]
  }
 ],
 "metadata": {
  "kernelspec": {
   "display_name": "Python 3",
   "language": "python",
   "name": "python3"
  },
  "language_info": {
   "codemirror_mode": {
    "name": "ipython",
    "version": 3
   },
   "file_extension": ".py",
   "mimetype": "text/x-python",
   "name": "python",
   "nbconvert_exporter": "python",
   "pygments_lexer": "ipython3",
   "version": "3.7.3"
  }
 },
 "nbformat": 4,
 "nbformat_minor": 2
}
